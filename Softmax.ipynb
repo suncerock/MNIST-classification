{
 "cells": [
  {
   "cell_type": "markdown",
   "metadata": {},
   "source": [
    "# Softmax "
   ]
  },
  {
   "cell_type": "markdown",
   "metadata": {},
   "source": [
    "## Load the data "
   ]
  },
  {
   "cell_type": "code",
   "execution_count": 1,
   "metadata": {},
   "outputs": [
    {
     "name": "stdout",
     "output_type": "stream",
     "text": [
      "Data loaded:\n",
      "X_train shape: (37800, 28, 28)\n",
      "y_train shape: (37800,)\n",
      "X_val shape: (4200, 28, 28)\n",
      "y_val shape: (4200,)\n",
      "X_test shape:  (28000, 28, 28)\n"
     ]
    }
   ],
   "source": [
    "# Load the data into 5 ndarrays\n",
    "# The shape of the ndarrays are printed below\n",
    "import matplotlib.pyplot as plt\n",
    "import numpy as np\n",
    "%matplotlib inline\n",
    "\n",
    "%load_ext autoreload\n",
    "%autoreload 2\n",
    "\n",
    "from load_data import load_data\n",
    "\n",
    "X_train, y_train, X_val, y_val, X_test = load_data()\n",
    "num_train = X_train.shape[0]\n",
    "num_val = X_val.shape[0]\n",
    "\n",
    "print(\"Data loaded:\")\n",
    "print(\"X_train shape:\", X_train.shape)\n",
    "print(\"y_train shape:\", y_train.shape)\n",
    "print(\"X_val shape:\", X_val.shape)\n",
    "print(\"y_val shape:\", y_val.shape)\n",
    "print(\"X_test shape: \", X_test.shape)"
   ]
  },
  {
   "cell_type": "code",
   "execution_count": 18,
   "metadata": {},
   "outputs": [],
   "source": [
    "def softmax_loss_vectorized(W, X, y, reg):\n",
    "    loss = 0.0\n",
    "    dW = np.zeros_like(W)\n",
    "\n",
    "    num_classes = W.shape[1]\n",
    "    num_train = X.shape[0]\n",
    "    \n",
    "    scores = X.dot(W)\n",
    "    prob = np.exp(scores - np.max(scores, axis = 1, keepdims = True))\n",
    "    normed_prob = prob / np.sum(prob, axis = 1, keepdims = True)\n",
    "    loss = -np.sum(np.log(normed_prob[np.arange(num_train), y]))\n",
    "    \n",
    "    normed_prob[np.arange(num_train), y] -= 1\n",
    "    dW = X.T.dot(normed_prob)\n",
    "    \n",
    "    loss /= num_train\n",
    "    loss += reg * np.sum(W * W)\n",
    "    \n",
    "    dW /= num_train\n",
    "    dW += 2 * reg * W\n",
    "\n",
    "    return loss, dW"
   ]
  },
  {
   "cell_type": "code",
   "execution_count": 19,
   "metadata": {},
   "outputs": [],
   "source": [
    "def flatten(X):\n",
    "    return X.reshape(X.shape[0], -1)"
   ]
  },
  {
   "cell_type": "code",
   "execution_count": 22,
   "metadata": {},
   "outputs": [
    {
     "data": {
      "text/plain": [
       "(4.54590494590025,\n",
       " array([[ 4.21038468e-05,  8.91900499e-04, -4.24141741e-04, ...,\n",
       "         -2.24358199e-04,  3.24935680e-04,  3.67175480e-04],\n",
       "        [-3.52435292e-04, -1.41128612e-04, -5.51558901e-05, ...,\n",
       "          2.61370151e-04, -4.23384782e-05, -1.14520337e-05],\n",
       "        [ 9.44163253e-05, -6.06214076e-05, -2.99499975e-04, ...,\n",
       "          4.58897606e-04,  4.05776805e-04, -5.42171900e-04],\n",
       "        ...,\n",
       "        [ 4.46225590e-05,  6.37812529e-04,  3.81576505e-04, ...,\n",
       "         -1.21863123e-03, -2.17734246e-04, -6.79476822e-04],\n",
       "        [-8.52423295e-04,  8.81900459e-04,  2.36982923e-04, ...,\n",
       "          7.56470203e-04, -2.19223638e-04,  6.68483372e-04],\n",
       "        [-5.07164007e-04,  1.70579201e-04, -2.73387119e-05, ...,\n",
       "          7.10736976e-04, -9.45990134e-04, -2.60565818e-04]]))"
      ]
     },
     "execution_count": 22,
     "metadata": {},
     "output_type": "execute_result"
    }
   ],
   "source": [
    "X_train = flatten(X_train)\n",
    "X_val = flatten(X_val)\n",
    "W = np.random.randn(X_train.shape[1], 10) * 1e-3\n",
    "softmax_loss(W, X_train, y_train, 0.25)"
   ]
  },
  {
   "cell_type": "code",
   "execution_count": 27,
   "metadata": {
    "scrolled": true
   },
   "outputs": [
    {
     "name": "stdout",
     "output_type": "stream",
     "text": [
      "Iterations    0/  50: 2.3030054462862863\n",
      "Iterations   10/  50: 0.7462564752776198\n",
      "Iterations   20/  50: 0.5598734597011293\n",
      "Iterations   30/  50: 0.4997325713383402\n",
      "Iterations   40/  50: 0.4654822893254367\n",
      "Iterations   50/  50: 0.44286914785453024\n"
     ]
    }
   ],
   "source": [
    "iterations = 50\n",
    "learning_rate = 1e-5\n",
    "reg = 0.25\n",
    "weight_scale = 1e-5\n",
    "decay = 0.95\n",
    "\n",
    "W = np.random.randn(X_train.shape[1], 10) * weight_scale\n",
    "loss = [None] * (iterations+1)\n",
    "for i in np.arange(iterations+1):\n",
    "    loss[i], dW = softmax_loss(W, X_train, y_train, reg=reg)\n",
    "    W -= dW * learning_rate\n",
    "    if i % 10 == 0:\n",
    "        print(\"Iterations {:4d}/{:4d}:\".format(i, iterations), loss[i])\n",
    "        learning_rate *= decay"
   ]
  },
  {
   "cell_type": "code",
   "execution_count": 30,
   "metadata": {},
   "outputs": [
    {
     "data": {
      "image/png": "[encoded data removed]",
      "text/plain": [
       "<Figure size 432x288 with 1 Axes>"
      ]
     },
     "metadata": {
      "needs_background": "light"
     },
     "output_type": "display_data"
    }
   ],
   "source": [
    "plt.scatter(np.arange(iterations+1), loss)\n",
    "plt.show()"
   ]
  },
  {
   "cell_type": "code",
   "execution_count": 33,
   "metadata": {},
   "outputs": [],
   "source": [
    "def softmax_predict(W, X):\n",
    "    scores = X.dot(W)\n",
    "    prob = np.exp(scores - np.max(scores, axis = 1, keepdims = True))\n",
    "    normed_prob = prob / np.sum(prob, axis = 1, keepdims = True)\n",
    "    labels = np.argmax(normed_prob, axis=1)\n",
    "    return labels"
   ]
  },
  {
   "cell_type": "code",
   "execution_count": 35,
   "metadata": {},
   "outputs": [
    {
     "name": "stdout",
     "output_type": "stream",
     "text": [
      "Training set accuracy:  0.8844973544973544\n",
      "Validation set accuracy:  0.8866666666666667\n"
     ]
    }
   ],
   "source": [
    "X_train_pred = softmax_predict(W, X_train)\n",
    "print(\"Training set accuracy: \", np.mean(X_train_pred == y_train))\n",
    "X_val_pred = softmax_predict(W, X_val)\n",
    "print(\"Validation set accuracy: \", np.mean(X_val_pred == y_val))"
   ]
  },
  {
   "cell_type": "code",
   "execution_count": null,
   "metadata": {},
   "outputs": [],
   "source": []
  }
 ],
 "metadata": {
  "kernelspec": {
   "display_name": "Python 3",
   "language": "python",
   "name": "python3"
  },
  "language_info": {
   "codemirror_mode": {
    "name": "ipython",
    "version": 3
   },
   "file_extension": ".py",
   "mimetype": "text/x-python",
   "name": "python",
   "nbconvert_exporter": "python",
   "pygments_lexer": "ipython3",
   "version": "3.7.5"
  }
 },
 "nbformat": 4,
 "nbformat_minor": 2
}
